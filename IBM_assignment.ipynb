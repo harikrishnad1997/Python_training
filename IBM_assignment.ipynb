{
 "cells": [
  {
   "cell_type": "markdown",
   "id": "b77ce671",
   "metadata": {},
   "source": [
    "# My Jupyter Notebook on IBM Watson Studio"
   ]
  },
  {
   "cell_type": "markdown",
   "id": "c52d404d",
   "metadata": {},
   "source": [
    "**Harikrishna Dev**<br>\n",
    "100% Human"
   ]
  },
  {
   "cell_type": "markdown",
   "id": "35431bcd",
   "metadata": {},
   "source": [
    "*I am interested in data science because I love to gain insights from data*"
   ]
  },
  {
   "cell_type": "markdown",
   "id": "de078b15",
   "metadata": {},
   "source": [
    "### The following code tests the gauss Formula"
   ]
  },
  {
   "cell_type": "code",
   "execution_count": 3,
   "id": "860f3605",
   "metadata": {},
   "outputs": [
    {
     "name": "stdout",
     "output_type": "stream",
     "text": [
      "Gauss\n"
     ]
    }
   ],
   "source": [
    "print(\"Gauss\")"
   ]
  },
  {
   "cell_type": "markdown",
   "id": "ddf10801",
   "metadata": {},
   "source": [
    "> My name is Hari\n",
    "* My name is Hari \n",
    "* LinkedIn Profile: <https://www.linkedin.com/in/harikrishnad1997/>\n"
   ]
  },
  {
   "cell_type": "code",
   "execution_count": 4,
   "id": "dcabd9fb",
   "metadata": {},
   "outputs": [],
   "source": [
    "# IBM watson isn't working for some reason during this assignment submission. Therefore, I have updated it in GIT."
   ]
  },
  {
   "cell_type": "code",
   "execution_count": null,
   "id": "6854771f",
   "metadata": {},
   "outputs": [],
   "source": []
  }
 ],
 "metadata": {
  "kernelspec": {
   "display_name": "Python 3 (ipykernel)",
   "language": "python",
   "name": "python3"
  },
  "language_info": {
   "codemirror_mode": {
    "name": "ipython",
    "version": 3
   },
   "file_extension": ".py",
   "mimetype": "text/x-python",
   "name": "python",
   "nbconvert_exporter": "python",
   "pygments_lexer": "ipython3",
   "version": "3.9.7"
  }
 },
 "nbformat": 4,
 "nbformat_minor": 5
}
